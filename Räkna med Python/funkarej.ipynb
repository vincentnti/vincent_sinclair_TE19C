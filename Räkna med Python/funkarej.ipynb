{
 "metadata": {
  "language_info": {
   "codemirror_mode": {
    "name": "ipython",
    "version": 3
   },
   "file_extension": ".py",
   "mimetype": "text/x-python",
   "name": "python",
   "nbconvert_exporter": "python",
   "pygments_lexer": "ipython3",
   "version": 3
  },
  "orig_nbformat": 2
 },
 "nbformat": 4,
 "nbformat_minor": 2,
 "cells": [
  {
   "cell_type": "code",
   "execution_count": null,
   "metadata": {},
   "outputs": [],
   "source": [
    "#Tyngdkraft\n",
    "g = 9.82\n",
    "m = float(input(\"Din Vikt: \"))\n",
    "\n",
    "F = m * g\n",
    "\n",
    "print(f\"Din Tyngdkraft är: {F}N\")"
   ]
  },
  {
   "cell_type": "code",
   "execution_count": null,
   "metadata": {},
   "outputs": [],
   "source": [
    "#Procent\n",
    "decimalTal = float(input(\"Ange decimal tal: \"))\n",
    "\n",
    "procent = decimalTal*100\n",
    "\n",
    "print(f\"Decimalen: {decimalTal} I Procent: {procent:.0f}%\")"
   ]
  },
  {
   "cell_type": "code",
   "execution_count": null,
   "metadata": {},
   "outputs": [],
   "source": [
    "#Kelvin till Celsius\n",
    "kelvin = float(input(\"Kelvin: \"))\n",
    "celsius = kelvin - 273.15\n",
    "\n",
    "print(f\"{kelvin} Kelvin = {celsius} Celsius\")"
   ]
  },
  {
   "cell_type": "code",
   "execution_count": null,
   "metadata": {},
   "outputs": [],
   "source": [
    "#Celsius till Kelvin\n",
    "celsius = float(input(\"Celsius: \"))\n",
    "kelvin = celsius + 273.15\n",
    "print(f\"{celsius} Celsius = {kelvin} Kelvin\")"
   ]
  },
  {
   "cell_type": "code",
   "execution_count": null,
   "metadata": {},
   "outputs": [],
   "source": [
    "#Västtrafik\n",
    "#Average month 30.42 days\n",
    "dayTicket = 30\n",
    "monthTicket = 775\n",
    "\n",
    "\n",
    "days = int(input(\"How many days do you wish to travel: \"))\n",
    "print(f\"Price: {dayTicket*days}kr\")\n",
    "\n",
    "print(\"Is it worth using Day Tickets an entire month instead of Month Tickets?\")\n",
    "print(f\"Price for Day Tickets lasting a month {dayTicket*30.42}kr. Price for Month Ticket: {monthTicket}kr. Is it worth using Day Tickets over Month Tickets? {dayTicket*30.42 < monthTicket}\")\n",
    "\n",
    "\n"
   ]
  },
  {
   "cell_type": "code",
   "execution_count": null,
   "metadata": {},
   "outputs": [],
   "source": []
  }
 ]
}